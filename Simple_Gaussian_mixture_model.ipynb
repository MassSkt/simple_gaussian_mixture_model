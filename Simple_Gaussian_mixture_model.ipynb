{
 "cells": [
  {
   "cell_type": "code",
   "execution_count": 1,
   "metadata": {
    "collapsed": false
   },
   "outputs": [],
   "source": [
    "import numpy as np\n",
    "from scipy.special import logsumexp\n",
    "from sklearn import datasets,model_selection,svm,metrics\n",
    "from sklearn.preprocessing import StandardScaler\n",
    "import matplotlib.pyplot as plt\n",
    "from matplotlib import mlab\n",
    "from tqdm import tqdm #Progressbar"
   ]
  },
  {
   "cell_type": "code",
   "execution_count": 2,
   "metadata": {
    "collapsed": true
   },
   "outputs": [],
   "source": [
    "class GaussianMixtureDistribution(object):\n",
    "\n",
    "    def __init__(self, n_components,init_means):\n",
    "        # number of clusters\n",
    "        self.n_components = n_components\n",
    "        self.means=init_means# mu_k  shape (K,ndim)\n",
    "\n",
    "    def fit(self, X, iter_max=100):\n",
    "        self.ndim = np.size(X, 1) # X shape is( samples, ndim)\n",
    "\n",
    "        # パラメータの初期化\n",
    "        self.weights = np.ones(self.n_components) / self.n_components# Pi_k shape (K)\n",
    "        self.sigma=np.empty([self.n_components,self.ndim,self.ndim])\n",
    "        for i in range(self.n_components):\n",
    "            self.sigma[i,:,:]=np.eye(self.ndim)\n",
    "        # EM algorithm\n",
    "        for i in tqdm(range(iter_max)):\n",
    "            params = np.hstack((self.weights.ravel(), self.means.ravel()))\n",
    "            #print('mean',self.means)\n",
    "            # E step\n",
    "            stats = self._expectation(X)\n",
    "\n",
    "            # M step\n",
    "            self._maximization(X, stats)\n",
    "            if np.allclose(params, np.hstack((self.weights.ravel(), self.means.ravel()))):\n",
    "                print('Converged')\n",
    "                #break\n",
    "        self.n_iter = i + 1\n",
    "\n",
    "    # logarithm funcskon of gaussian　(samples,K)\n",
    "    def _log_gaussian(self, X):\n",
    "        #np.clip(self.means, 1e-10, 1e10, out=self.means)\n",
    "        # sum of shape (samples, K, ndim)  with axis=-1 -> (samples,K)\n",
    "\n",
    "        X_mu=X[:,None,:]-self.means # (nsamples,K,ndim)\n",
    "        log_gauss=np.empty([X.shape[0],self.n_components]) # (nsamples,K)\n",
    "\n",
    "        for k in range(self.n_components):\n",
    "            #  reset covariance matrix to Unit matrix if covariance matrix is singlar matrix\n",
    "            if np.linalg.det(self.sigma[k,:,:])<1e-11:\n",
    "                self.sigma[k,:,:]=np.eye(self.ndim)\n",
    "                print('sigma corrected')\n",
    "            logC=-(self.ndim/2.0)*np.log(2 * np.pi)-1.0/2.0*np.log(np.linalg.det(self.sigma[k,:,:]))\n",
    "\n",
    "            d=np.diag(X_mu[:,k,:] @ np.linalg.inv(self.sigma[k,:,:]) @ X_mu[:,k,:].T) # x1 ... xn Mahalanobis' Distance　(n_samples)\n",
    "            d=d.reshape(len(d),1) # reshape (nsamples,1)\n",
    "\n",
    "            log_gauss[:,k]=(logC+d).reshape(X.shape[0])# (nsamples,1)\n",
    "\n",
    "        return log_gauss\n",
    "\n",
    "    def _expectation(self, X):\n",
    "        # PRML(9.23) responsibity　(samples,K)\n",
    "        log_resps = np.log(self.weights) + self._log_gaussian(X) # (K)+(samples,K) = (samples,K)\n",
    "        log_resps -= logsumexp(log_resps, axis=-1)[:, None] # (samples,1) logsumexp is for preventing　indivisual exp(xi) of log Σ　exp (xi) to overflow or underflow \n",
    "        #print(log_resps)\n",
    "        resps = np.exp(log_resps) # return to exp\n",
    "        return resps\n",
    "\n",
    "    def _maximization(self, X, resps):\n",
    "        # PRML(9.27)  sum of (samples,K) -> (1,K)\n",
    "        Nk = np.sum(resps, axis=0)\n",
    "        # PRML(9.26)\n",
    "        self.weights = Nk / X.shape[0]\n",
    "        # PRML(9.24)\n",
    "        self.means = (X.T @ resps / Nk).T # (ndim,nsample) @ (samples,K) = (ndim,K) -> (k.dim)\n",
    "\n",
    "        # PRLM (9,25)\n",
    "        for k in range(self.n_components):\n",
    "            self.sigma[k,:,:]=np.zeros([self.ndim,self.ndim])# Initialize\n",
    "            for n in range(X.shape[0]):\n",
    "                xn_mu=X[n,:]-self.means[k,:]\n",
    "                xn_mu=xn_mu.reshape(1,len(xn_mu))# vector of (1,ndim)\n",
    "                self.sigma[k,:,:]+=resps[n,k]*(xn_mu.T@xn_mu)\n",
    "            self.sigma[k,:,:]/=Nk[k]\n",
    "            "
   ]
  },
  {
   "cell_type": "code",
   "execution_count": 3,
   "metadata": {
    "collapsed": false
   },
   "outputs": [],
   "source": [
    "\n",
    "def toy_sampler(mu,Sig,N=1000,D=2):\n",
    "    '''\n",
    "    N;samples\n",
    "    D:sample dimension\n",
    "    mu:mean\n",
    "    Sig:Covariance matrix\n",
    "    '''\n",
    "    x_s = np.random.rand(D, N)\n",
    "\n",
    "    # Box-Muller's method\n",
    "    y_s = x_s * 0\n",
    "    y_s[0,:] = np.sqrt(-2.0 * np.log(x_s[0,:])) * np.cos(2.0 * np.pi * x_s[1,:])\n",
    "    y_s[1,:] = np.sqrt(-2.0 * np.log(x_s[0,:])) * np.sin(2.0 * np.pi * x_s[1,:])\n",
    "\n",
    "\n",
    "    P = np.linalg.cholesky(Sig)\n",
    "\n",
    "    z_s = P.dot(y_s) + mu\n",
    "    \n",
    "    return z_s.T\n",
    "\n"
   ]
  },
  {
   "cell_type": "code",
   "execution_count": 4,
   "metadata": {
    "collapsed": false
   },
   "outputs": [
    {
     "data": {
      "image/png": "[encoded data removed]",
      "text/plain": [
       "<matplotlib.figure.Figure at 0x17516685c88>"
      ]
     },
     "metadata": {},
     "output_type": "display_data"
    },
    {
     "data": {
      "text/plain": [
       "(600, 2)"
      ]
     },
     "execution_count": 4,
     "metadata": {},
     "output_type": "execute_result"
    }
   ],
   "source": [
    "mu1 = np.array([0.5, 0.4])[:,None] #mean\n",
    "Sig1 = np.array([[0.4 ** 2, 0.3 ** 2], [0.3 ** 2, 0.4 ** 2]]) #covariance matrix\n",
    "mu2 = np.array([-1.5, 2])[:,None] #mean\n",
    "Sig2 = np.array([[0.4 ** 2, 0.1 ** 2], [0.3 ** 2, 0.4 ** 2]]) #covariance matrix\n",
    "X=np.concatenate([toy_sampler(mu=mu1,Sig=Sig1,N=300,D=2),toy_sampler(mu=mu2,Sig=Sig2,N=300,D=2)],axis=0)\n",
    "\n",
    "sc = StandardScaler()\n",
    "X = sc.fit_transform(X)\n",
    "fig=plt.figure()\n",
    "plt.scatter(X[:,0],X[:,1])\n",
    "plt.show()\n",
    "X.shape"
   ]
  },
  {
   "cell_type": "code",
   "execution_count": 5,
   "metadata": {
    "collapsed": false
   },
   "outputs": [
    {
     "name": "stderr",
     "output_type": "stream",
     "text": [
      "100%|████████████████████████████████████████| 400/400 [00:10<00:00, 39.61it/s]\n"
     ]
    },
    {
     "name": "stdout",
     "output_type": "stream",
     "text": [
      "mean\n",
      " [[-0.92834774  0.89381144]\n",
      " [ 0.92834774 -0.89381144]]\n",
      "sigma\n",
      " [[[0.14083891 0.10179471]\n",
      "  [0.10179471 0.21246679]]\n",
      "\n",
      " [[0.13550203 0.09685878]\n",
      "  [0.09685878 0.18973545]]]\n"
     ]
    },
    {
     "name": "stderr",
     "output_type": "stream",
     "text": [
      "C:\\Users\\Sakata\\Anaconda3\\lib\\site-packages\\numpy\\ma\\core.py:6462: MaskedArrayFutureWarning: In the future the default for ma.minimum.reduce will be axis=0, not the current None, to match np.minimum.reduce. Explicitly pass 0 or None to silence this warning.\n",
      "  return self.reduce(a)\n",
      "C:\\Users\\Sakata\\Anaconda3\\lib\\site-packages\\numpy\\ma\\core.py:6462: MaskedArrayFutureWarning: In the future the default for ma.maximum.reduce will be axis=0, not the current None, to match np.maximum.reduce. Explicitly pass 0 or None to silence this warning.\n",
      "  return self.reduce(a)\n"
     ]
    },
    {
     "data": {
      "image/png": "[encoded data removed]",
      "text/plain": [
       "<matplotlib.figure.Figure at 0x1751a9d59b0>"
      ]
     },
     "metadata": {},
     "output_type": "display_data"
    }
   ],
   "source": [
    "init_mean=np.array([[-1.5,0],[1.5,0]])\n",
    "K=2\n",
    "\n",
    "gmd=GaussianMixtureDistribution(n_components=2,init_means=init_mean)\n",
    "gmd.fit(X,iter_max=400)\n",
    "\n",
    "print('mean\\n',gmd.means)\n",
    "print('sigma\\n',gmd.sigma)    # ガウス分布の平均を描画\n",
    "\n",
    "cov=gmd.sigma\n",
    "mean=gmd.means\n",
    "fig=plt.figure()\n",
    "plt.scatter(X[:,0],X[:,1])\n",
    "for k in range(K):\n",
    "    plt.scatter(mean[k, 0], mean[k, 1], c='r', marker='o')\n",
    "\n",
    "# Visualize with Contour\n",
    "xlist = np.linspace(-2.5, 2.5, 50)\n",
    "ylist = np.linspace(-2.5, 2.5, 50)\n",
    "x, y = np.meshgrid(xlist, ylist)\n",
    "for k in range(K):\n",
    "    z = mlab.bivariate_normal(x, y, np.sqrt(cov[k,0,0]), np.sqrt(cov[k,1,1]), mean[k,0], mean[k,1], cov[k,0,1])\n",
    "    cs = plt.contour(x, y, z, 3, colors='k', linewidths=1)"
   ]
  },
  {
   "cell_type": "code",
   "execution_count": null,
   "metadata": {
    "collapsed": true
   },
   "outputs": [],
   "source": []
  }
 ],
 "metadata": {
  "anaconda-cloud": {},
  "kernelspec": {
   "display_name": "Python [conda root]",
   "language": "python",
   "name": "conda-root-py"
  },
  "language_info": {
   "codemirror_mode": {
    "name": "ipython",
    "version": 3
   },
   "file_extension": ".py",
   "mimetype": "text/x-python",
   "name": "python",
   "nbconvert_exporter": "python",
   "pygments_lexer": "ipython3",
   "version": "3.5.2"
  }
 },
 "nbformat": 4,
 "nbformat_minor": 2
}
